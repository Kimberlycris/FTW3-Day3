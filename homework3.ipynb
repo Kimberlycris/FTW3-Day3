{
 "cells": [
  {
   "cell_type": "markdown",
   "metadata": {},
   "source": [
    "# HOMEWORK"
   ]
  },
  {
   "cell_type": "markdown",
   "metadata": {},
   "source": [
    "### 1. Palindrome Checker"
   ]
  },
  {
   "cell_type": "code",
   "execution_count": 1,
   "metadata": {},
   "outputs": [
    {
     "name": "stdout",
     "output_type": "stream",
     "text": [
      "True\n"
     ]
    }
   ],
   "source": [
    "x = 'radar'\n",
    "p = ''\n",
    "\n",
    "for i in x:\n",
    "    p = i + p\n",
    "    if x==p:\n",
    "        print('True')"
   ]
  },
  {
   "cell_type": "code",
   "execution_count": 2,
   "metadata": {},
   "outputs": [
    {
     "data": {
      "text/plain": [
       "True"
      ]
     },
     "execution_count": 2,
     "metadata": {},
     "output_type": "execute_result"
    }
   ],
   "source": [
    "x = 'racecar'\n",
    "\n",
    "def reverse(x):\n",
    "    return x[::-1]\n",
    "\n",
    "def palindrome(x):\n",
    "    rev = reverse(x)\n",
    "    if x==rev:\n",
    "        return True\n",
    "    return False\n",
    "\n",
    "palindrome(x)"
   ]
  },
  {
   "cell_type": "markdown",
   "metadata": {},
   "source": [
    "### 2. Prime Number Checker"
   ]
  },
  {
   "cell_type": "code",
   "execution_count": 4,
   "metadata": {},
   "outputs": [
    {
     "name": "stdout",
     "output_type": "stream",
     "text": [
      "17 is a prime number\n"
     ]
    }
   ],
   "source": [
    "num = 17\n",
    "\n",
    "if num > 1:\n",
    "    for i in range(2, num//2):\n",
    "        if num % i == 0:\n",
    "            print(num, 'is not a prime number')\n",
    "            break\n",
    "    else:\n",
    "        print(num, 'is a prime number')\n",
    "else:\n",
    "    print(num, 'is not a prime number')\n",
    "        "
   ]
  },
  {
   "cell_type": "markdown",
   "metadata": {},
   "source": [
    "### Project Euler Problem 10"
   ]
  },
  {
   "cell_type": "markdown",
   "metadata": {},
   "source": [
    "#### The sum of the primes below 10 is 2 + 3 + 5 + 7 = 17. Find the sum of all the primes below two million."
   ]
  },
  {
   "cell_type": "code",
   "execution_count": 1,
   "metadata": {},
   "outputs": [
    {
     "name": "stdout",
     "output_type": "stream",
     "text": [
      "21171191\n"
     ]
    }
   ],
   "source": [
    "# slow computing ability\n",
    "\n",
    "sum = 0\n",
    "limit = 20000\n",
    "\n",
    "for n in range(2, limit):\n",
    "    if all(n % i for i in range(2, n)):\n",
    "        sum += n\n",
    "print(sum)"
   ]
  },
  {
   "cell_type": "code",
   "execution_count": 4,
   "metadata": {},
   "outputs": [
    {
     "data": {
      "text/plain": [
       "142913828922"
      ]
     },
     "execution_count": 4,
     "metadata": {},
     "output_type": "execute_result"
    }
   ],
   "source": [
    "def Primes(n):\n",
    "    sum = 0\n",
    "    sieve = [True] * (n+1)\n",
    "    for p in range(2, n):\n",
    "        if sieve[p]:\n",
    "            sum += p \n",
    "            for i in range(p*p, n, p):\n",
    "                sieve[i] = False\n",
    "    return sum\n",
    "\n",
    "Primes(2000000)"
   ]
  },
  {
   "cell_type": "markdown",
   "metadata": {},
   "source": [
    "### Project Euler Problem 9"
   ]
  },
  {
   "cell_type": "markdown",
   "metadata": {},
   "source": [
    "#### A Pythagorean triplet is a set of three natural numbers, a < b < c, for which,\n",
    "\n",
    "#### a**2 + b**2 = c**2\n",
    "\n",
    "#### For example, 3**2 + 4**2 = 9 + 16 = 25 = 5**2.\n",
    "\n",
    "#### There exists exactly one Pythagorean triplet for which a + b + c = 1000. Find the product abc."
   ]
  },
  {
   "cell_type": "code",
   "execution_count": 22,
   "metadata": {},
   "outputs": [],
   "source": [
    "import math"
   ]
  },
  {
   "cell_type": "code",
   "execution_count": 35,
   "metadata": {},
   "outputs": [
    {
     "name": "stdout",
     "output_type": "stream",
     "text": [
      "0.0\n",
      "31875000.0\n"
     ]
    }
   ],
   "source": [
    "for a in range(1000):\n",
    "    for b in range(a+1, 999):\n",
    "        c = math.sqrt(a*a + b*b)    \n",
    "        if a + b + c == 1000:\n",
    "            product = a*b*c\n",
    "            print(product)"
   ]
  },
  {
   "cell_type": "markdown",
   "metadata": {},
   "source": [
    "### Problem 11"
   ]
  },
  {
   "cell_type": "markdown",
   "metadata": {},
   "source": [
    "![assign11](assign11.png)"
   ]
  },
  {
   "cell_type": "code",
   "execution_count": null,
   "metadata": {},
   "outputs": [],
   "source": [
    "# (a) Penguins (65 to 75cm)"
   ]
  },
  {
   "cell_type": "code",
   "execution_count": 43,
   "metadata": {},
   "outputs": [
    {
     "data": {
      "text/plain": [
       "1440.0"
      ]
     },
     "execution_count": 43,
     "metadata": {},
     "output_type": "execute_result"
    }
   ],
   "source": [
    "a = (.34 + .14) * 3000\n",
    "a"
   ]
  },
  {
   "cell_type": "code",
   "execution_count": null,
   "metadata": {},
   "outputs": [],
   "source": [
    "# (b) P(height<60cm)"
   ]
  },
  {
   "cell_type": "code",
   "execution_count": 45,
   "metadata": {},
   "outputs": [
    {
     "data": {
      "text/plain": [
       "0.16"
      ]
     },
     "execution_count": 45,
     "metadata": {},
     "output_type": "execute_result"
    }
   ],
   "source": [
    "P = (.16*3000)/3000\n",
    "P"
   ]
  },
  {
   "cell_type": "code",
   "execution_count": null,
   "metadata": {},
   "outputs": [],
   "source": [
    "\n"
   ]
  }
 ],
 "metadata": {
  "kernelspec": {
   "display_name": "Python 3",
   "language": "python",
   "name": "python3"
  },
  "language_info": {
   "codemirror_mode": {
    "name": "ipython",
    "version": 3
   },
   "file_extension": ".py",
   "mimetype": "text/x-python",
   "name": "python",
   "nbconvert_exporter": "python",
   "pygments_lexer": "ipython3",
   "version": "3.7.3"
  }
 },
 "nbformat": 4,
 "nbformat_minor": 2
}
